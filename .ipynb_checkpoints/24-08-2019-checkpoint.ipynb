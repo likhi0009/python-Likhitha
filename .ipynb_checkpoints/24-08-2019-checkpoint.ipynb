{
 "cells": [
  {
   "cell_type": "code",
   "execution_count": null,
   "metadata": {},
   "outputs": [],
   "source": [
    "### Odd Exit\n",
    "n=input()\n",
    "     even=[]\n",
    "while n!='EXIT':\n",
    "    n=int(n)\n",
    "    if n%2==0:\n",
    "        even.append(n)\n",
    "        print(n,end=\" \")\n",
    "    n=input()    \n",
    "print('\\n',max(even),sep='') \n"
   ]
  },
  {
   "cell_type": "markdown",
   "metadata": {},
   "source": [
    "## functions --->( call,def,display,arguments\n",
    "easy to debug\n",
    "reuseibility"
   ]
  },
  {
   "cell_type": "code",
   "execution_count": 1,
   "metadata": {},
   "outputs": [
    {
     "name": "stdout",
     "output_type": "stream",
     "text": [
      "enter a value20\n",
      "enter a value35\n"
     ]
    },
    {
     "data": {
      "text/plain": [
       "55"
      ]
     },
     "execution_count": 1,
     "metadata": {},
     "output_type": "execute_result"
    }
   ],
   "source": [
    "# def\n",
    "def add():\n",
    "    c=a+b\n",
    "    return c\n",
    "a=int(input(\"enter a value\"))\n",
    "b=int(input(\"enter a value\"))\n",
    "add()"
   ]
  },
  {
   "cell_type": "code",
   "execution_count": 2,
   "metadata": {},
   "outputs": [
    {
     "name": "stdout",
     "output_type": "stream",
     "text": [
      "20\n",
      "30\n"
     ]
    }
   ],
   "source": [
    "# display ---> a=10-> global variable,a=30-> local variable\n",
    "a=10\n",
    "def display():\n",
    "    b=20\n",
    "    a=30\n",
    "    print(b)\n",
    "    print(a)\n",
    "display()"
   ]
  },
  {
   "cell_type": "markdown",
   "metadata": {},
   "source": [
    "# types of arguments--->(required arguments, keyword arguments, default arguments, variable length arguments)"
   ]
  },
  {
   "cell_type": "code",
   "execution_count": 4,
   "metadata": {},
   "outputs": [
    {
     "name": "stdout",
     "output_type": "stream",
     "text": [
      "20 10\n"
     ]
    }
   ],
   "source": [
    "### required arguments ---> position and order of arguments in a function should be same\n",
    "def display(a,b):\n",
    "    print(a,b)\n",
    "display(20,10)"
   ]
  },
  {
   "cell_type": "code",
   "execution_count": 5,
   "metadata": {},
   "outputs": [
    {
     "name": "stdout",
     "output_type": "stream",
     "text": [
      "20 10\n"
     ]
    }
   ],
   "source": [
    "### keyword arguments ---> we can call a function & this has no position and order in a function\n",
    "def display(a,b):\n",
    "    print(a,b)\n",
    "display(b=10,a=20)"
   ]
  },
  {
   "cell_type": "code",
   "execution_count": 11,
   "metadata": {},
   "outputs": [
    {
     "name": "stdout",
     "output_type": "stream",
     "text": [
      "abc mtech\n"
     ]
    }
   ],
   "source": [
    "### default arguments ---> we can \n",
    "def display(name,course=\"B.tech\"):\n",
    "    print(name,course)\n",
    "display(name=\"abc\",course=\"mtech\")"
   ]
  },
  {
   "cell_type": "code",
   "execution_count": null,
   "metadata": {},
   "outputs": [],
   "source": []
  }
 ],
 "metadata": {
  "kernelspec": {
   "display_name": "Python 3",
   "language": "python",
   "name": "python3"
  },
  "language_info": {
   "codemirror_mode": {
    "name": "ipython",
    "version": 3
   },
   "file_extension": ".py",
   "mimetype": "text/x-python",
   "name": "python",
   "nbconvert_exporter": "python",
   "pygments_lexer": "ipython3",
   "version": "3.7.3"
  }
 },
 "nbformat": 4,
 "nbformat_minor": 2
}
