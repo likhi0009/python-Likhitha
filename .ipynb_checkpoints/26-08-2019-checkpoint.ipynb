{
 "cells": [
  {
   "cell_type": "code",
   "execution_count": 2,
   "metadata": {},
   "outputs": [
    {
     "name": "stdout",
     "output_type": "stream",
     "text": [
      "5\n",
      "1 2 3 4 5\n",
      "120\n"
     ]
    }
   ],
   "source": [
    "N=int(input())\n",
    "A=input().split()\n",
    "l=len(A)\n",
    "answer=1\n",
    "for i in range(1,l):\n",
    "    answer=(answer*int(A[i]))%(10**9+7)\n",
    "print(answer)"
   ]
  },
  {
   "cell_type": "code",
   "execution_count": null,
   "metadata": {},
   "outputs": [],
   "source": [
    "## two strings\n",
    "T=input().split()\n",
    "s1=T[0]\n",
    "s2=T[1]\n",
    "if sorted(s1)==sorted(s2):\n",
    "    print(\"YES\")\n",
    "else:\n",
    "    print(\"NO\")"
   ]
  },
  {
   "cell_type": "code",
   "execution_count": null,
   "metadata": {},
   "outputs": [
    {
     "name": "stdout",
     "output_type": "stream",
     "text": [
      "2\n",
      "abc\n",
      "abc\n",
      "yes\n"
     ]
    }
   ],
   "source": [
    "# anagrams\n",
    "t=int(input())\n",
    "\n",
    "for i in range(1,t+1):\n",
    "    a=input()\n",
    "    b=input()\n",
    "    if sorted(a)==sorted(b):       "
   ]
  },
  {
   "cell_type": "code",
   "execution_count": null,
   "metadata": {},
   "outputs": [],
   "source": []
  }
 ],
 "metadata": {
  "kernelspec": {
   "display_name": "Python 3",
   "language": "python",
   "name": "python3"
  },
  "language_info": {
   "codemirror_mode": {
    "name": "ipython",
    "version": 3
   },
   "file_extension": ".py",
   "mimetype": "text/x-python",
   "name": "python",
   "nbconvert_exporter": "python",
   "pygments_lexer": "ipython3",
   "version": "3.7.3"
  }
 },
 "nbformat": 4,
 "nbformat_minor": 2
}
