{
 "cells": [
  {
   "cell_type": "markdown",
   "metadata": {},
   "source": [
    "# print"
   ]
  },
  {
   "cell_type": "code",
   "execution_count": 1,
   "metadata": {},
   "outputs": [
    {
     "name": "stdout",
     "output_type": "stream",
     "text": [
      "hello\n"
     ]
    }
   ],
   "source": [
    "a=(\"hello\")\n",
    "print(a)"
   ]
  },
  {
   "cell_type": "markdown",
   "metadata": {},
   "source": [
    "#  identation"
   ]
  },
  {
   "cell_type": "code",
   "execution_count": 2,
   "metadata": {},
   "outputs": [
    {
     "name": "stdout",
     "output_type": "stream",
     "text": [
      "five greather than two\n"
     ]
    }
   ],
   "source": [
    "if 5>2:\n",
    "    print(\"five greather than two\")"
   ]
  },
  {
   "cell_type": "markdown",
   "metadata": {},
   "source": [
    "# variables"
   ]
  },
  {
   "cell_type": "code",
   "execution_count": 5,
   "metadata": {},
   "outputs": [
    {
     "name": "stdout",
     "output_type": "stream",
     "text": [
      "9\n",
      "hello\n"
     ]
    }
   ],
   "source": [
    "a=9\n",
    "b=\"hello\"\n",
    "print(a)\n",
    "print(b)"
   ]
  },
  {
   "cell_type": "markdown",
   "metadata": {},
   "source": [
    "# comment"
   ]
  },
  {
   "cell_type": "code",
   "execution_count": 6,
   "metadata": {},
   "outputs": [
    {
     "name": "stdout",
     "output_type": "stream",
     "text": [
      "hello,good afternoon!\n"
     ]
    }
   ],
   "source": [
    "# comment\n",
    "print(\"hello,good afternoon!\")"
   ]
  },
  {
   "cell_type": "markdown",
   "metadata": {},
   "source": [
    "# Numbers"
   ]
  },
  {
   "cell_type": "code",
   "execution_count": 7,
   "metadata": {},
   "outputs": [
    {
     "name": "stdout",
     "output_type": "stream",
     "text": [
      "2.5\n",
      "9\n",
      "5j\n"
     ]
    }
   ],
   "source": [
    "x=2.5 #float\n",
    "y=9   # int\n",
    "z=5j #comment\n",
    "print(x)\n",
    "print(y)\n",
    "print(z)"
   ]
  },
  {
   "cell_type": "code",
   "execution_count": 8,
   "metadata": {},
   "outputs": [
    {
     "name": "stdout",
     "output_type": "stream",
     "text": [
      "<class 'float'>\n",
      "<class 'int'>\n",
      "<class 'complex'>\n"
     ]
    }
   ],
   "source": [
    "print(type(x))\n",
    "print(type(y))\n",
    "print(type(z))"
   ]
  },
  {
   "cell_type": "markdown",
   "metadata": {},
   "source": [
    "# casting"
   ]
  },
  {
   "cell_type": "code",
   "execution_count": 9,
   "metadata": {},
   "outputs": [
    {
     "name": "stdout",
     "output_type": "stream",
     "text": [
      "1\n",
      "2\n",
      "3\n"
     ]
    }
   ],
   "source": [
    "x=int(1) # x will be 1\n",
    "y=int(2.5) # y will be 2\n",
    "z=int(3) # z will be 3\n",
    "print(x)\n",
    "print(y)\n",
    "print(z)"
   ]
  },
  {
   "cell_type": "markdown",
   "metadata": {},
   "source": [
    "# strings"
   ]
  },
  {
   "cell_type": "code",
   "execution_count": 10,
   "metadata": {},
   "outputs": [
    {
     "name": "stdout",
     "output_type": "stream",
     "text": [
      "hello\n",
      "hello\n"
     ]
    }
   ],
   "source": [
    "print(\"hello\")\n",
    "print(\"hello\")"
   ]
  },
  {
   "cell_type": "markdown",
   "metadata": {},
   "source": [
    "# Operators:-\n",
    "---> arthemetic operators:-\n",
    "+\n",
    "-\n",
    "*\n",
    "%\n",
    "/\n",
    "**\n",
    "//\n",
    "\n",
    "---> assignment operators:-\n",
    "=\n",
    "+=\n",
    "-=\n",
    "*=\n",
    "/=\n",
    "%=\n",
    "//=\n",
    "%%=\n",
    "&=\n",
    "|=\n",
    ">>=\n",
    "<<=\n",
    "\n",
    "\n",
    "---> comparison operations:-\n",
    "==\n",
    "!=\n",
    ">\n",
    "<\n",
    ">=\n",
    "<=\n",
    "\n",
    "\n",
    "---> identity operators:-\n",
    "is\n",
    "is not\n",
    "\n",
    "---> bitwise opertaors:-\n",
    "&= AND\n",
    "|= OR\n",
    "^= XOR\n",
    "~=NOT\n",
    "<<= zero fill left shift\n",
    ">>= zero signed right shift"
   ]
  },
  {
   "cell_type": "markdown",
   "metadata": {},
   "source": [
    "# Lists"
   ]
  },
  {
   "cell_type": "code",
   "execution_count": 11,
   "metadata": {},
   "outputs": [
    {
     "name": "stdout",
     "output_type": "stream",
     "text": [
      "['apple', 'bannana', 'carrot']\n"
     ]
    }
   ],
   "source": [
    "mylist=[\"apple\",\"bannana\",\"carrot\"]\n",
    "print(mylist)"
   ]
  },
  {
   "cell_type": "code",
   "execution_count": 12,
   "metadata": {},
   "outputs": [
    {
     "name": "stdout",
     "output_type": "stream",
     "text": [
      "bannana\n"
     ]
    }
   ],
   "source": [
    "mylist=[\"apple\",\"bannana\",\"carrot\"]\n",
    "print(mylist[1])"
   ]
  },
  {
   "cell_type": "code",
   "execution_count": 13,
   "metadata": {},
   "outputs": [
    {
     "name": "stdout",
     "output_type": "stream",
     "text": [
      "carrot\n"
     ]
    }
   ],
   "source": [
    "# negitive indexing\n",
    "mylist=[\"apple\",\"bannana\",\"carrot\"]\n",
    "print(mylist[-1])"
   ]
  },
  {
   "cell_type": "code",
   "execution_count": 18,
   "metadata": {},
   "outputs": [
    {
     "name": "stdout",
     "output_type": "stream",
     "text": [
      "['rupa']\n"
     ]
    }
   ],
   "source": [
    "# range of indexes\n",
    "mylist=[\"sravya\",\"rupa\",\"sowmya\",\"subbu\"]\n",
    "print(mylist[1:2])"
   ]
  },
  {
   "cell_type": "code",
   "execution_count": 16,
   "metadata": {},
   "outputs": [
    {
     "name": "stdout",
     "output_type": "stream",
     "text": [
      "['sowmya']\n"
     ]
    }
   ],
   "source": [
    "# ranges of negitives indexes\n",
    "mylist=[\"rupa\",\"sravya\",\"sowmya\",\"subbu\"]\n",
    "print(mylist[-2:-1])"
   ]
  },
  {
   "cell_type": "code",
   "execution_count": 20,
   "metadata": {},
   "outputs": [
    {
     "name": "stdout",
     "output_type": "stream",
     "text": [
      "[' darkchocolate', 'oreo crusher', 'balck current']\n"
     ]
    }
   ],
   "source": [
    "# change item value\n",
    "mylist=[\" darkchocolate\",\"butterskotch\",\"balck current\"]\n",
    "mylist[1]=\"oreo crusher\"\n",
    "print(mylist)"
   ]
  },
  {
   "cell_type": "code",
   "execution_count": 21,
   "metadata": {},
   "outputs": [
    {
     "name": "stdout",
     "output_type": "stream",
     "text": [
      "apple\n",
      "bananna\n",
      "cherry\n"
     ]
    }
   ],
   "source": [
    "# loop through a list\n",
    "mylist=[\"apple\",\"bananna\",\"cherry\"]\n",
    "for x in mylist:\n",
    "    print(x)"
   ]
  },
  {
   "cell_type": "code",
   "execution_count": 22,
   "metadata": {},
   "outputs": [
    {
     "name": "stdout",
     "output_type": "stream",
     "text": [
      "yes, 'apple' is in fruit list\n"
     ]
    }
   ],
   "source": [
    "# check if item exists\n",
    "mylist=[\"apple\",\"bananna\",\"cherry\"]\n",
    "if \"apple\" in mylist:\n",
    "    print(\"yes, 'apple' is in fruit list\")"
   ]
  },
  {
   "cell_type": "code",
   "execution_count": 23,
   "metadata": {},
   "outputs": [
    {
     "name": "stdout",
     "output_type": "stream",
     "text": [
      "3\n"
     ]
    }
   ],
   "source": [
    "# list length\n",
    "mylist=[\"apple\",\"bananna\",\"cherry\"]\n",
    "print(len(mylist))"
   ]
  },
  {
   "cell_type": "code",
   "execution_count": 24,
   "metadata": {},
   "outputs": [
    {
     "name": "stdout",
     "output_type": "stream",
     "text": [
      "['apple', 'bananna', 'cherry', 'orange']\n"
     ]
    }
   ],
   "source": [
    "# add items ---> append()\n",
    "mylist=[\"apple\",\"bananna\",\"cherry\"]\n",
    "mylist.append(\"orange\")\n",
    "print(mylist)"
   ]
  },
  {
   "cell_type": "code",
   "execution_count": 26,
   "metadata": {},
   "outputs": [
    {
     "name": "stdout",
     "output_type": "stream",
     "text": [
      "['apple', 'bananna', 'orange', 'cherry']\n"
     ]
    }
   ],
   "source": [
    "# add items ---> insert()\n",
    "mylist=[\"apple\",\"bananna\",\"cherry\"]\n",
    "mylist.insert(2,\"orange\")\n",
    "print(mylist)"
   ]
  },
  {
   "cell_type": "code",
   "execution_count": 27,
   "metadata": {},
   "outputs": [
    {
     "name": "stdout",
     "output_type": "stream",
     "text": [
      "['apple', 'bananna']\n"
     ]
    }
   ],
   "source": [
    "#remove items\n",
    "mylist=[\"apple\",\"bananna\",\"cherry\"]\n",
    "mylist.remove(\"cherry\")\n",
    "print(mylist)"
   ]
  },
  {
   "cell_type": "code",
   "execution_count": 28,
   "metadata": {},
   "outputs": [
    {
     "name": "stdout",
     "output_type": "stream",
     "text": [
      "['apple', 'bananna']\n"
     ]
    }
   ],
   "source": [
    "# remove items --->pop()\n",
    "mylist=[\"apple\",\"bananna\",\"cherry\"]\n",
    "mylist.pop()\n",
    "print(mylist)"
   ]
  },
  {
   "cell_type": "code",
   "execution_count": 33,
   "metadata": {},
   "outputs": [
    {
     "name": "stdout",
     "output_type": "stream",
     "text": [
      "['apple', 'cherry']\n"
     ]
    }
   ],
   "source": [
    "# remove items --->del()\n",
    "mylist=[\"apple\",\"bananna\",\"cherry\"]\n",
    "del mylist[1]\n",
    "print(mylist)"
   ]
  },
  {
   "cell_type": "code",
   "execution_count": 34,
   "metadata": {},
   "outputs": [
    {
     "name": "stdout",
     "output_type": "stream",
     "text": [
      "[]\n"
     ]
    }
   ],
   "source": [
    "# remove items --->clear()\n",
    "mylist=[\"apple\",\"bananna\",\"cherry\"]\n",
    "mylist.clear()\n",
    "print(mylist)"
   ]
  },
  {
   "cell_type": "code",
   "execution_count": 35,
   "metadata": {},
   "outputs": [],
   "source": [
    "#  removeitems ---> del\n",
    "mylist=[\"apple\",\"bananna\",\"cherry\"]\n",
    "del mylist"
   ]
  },
  {
   "cell_type": "code",
   "execution_count": 36,
   "metadata": {},
   "outputs": [
    {
     "name": "stdout",
     "output_type": "stream",
     "text": [
      "['apple', 'bananna', 'cherry']\n"
     ]
    }
   ],
   "source": [
    "# copy a list\n",
    "mylist=[\"apple\",\"bananna\",\"cherry\"]\n",
    "thislist=mylist.copy()\n",
    "print(thislist)"
   ]
  },
  {
   "cell_type": "code",
   "execution_count": null,
   "metadata": {},
   "outputs": [],
   "source": [
    "# join two lists\n"
   ]
  }
 ],
 "metadata": {
  "kernelspec": {
   "display_name": "Python 3",
   "language": "python",
   "name": "python3"
  },
  "language_info": {
   "codemirror_mode": {
    "name": "ipython",
    "version": 3
   },
   "file_extension": ".py",
   "mimetype": "text/x-python",
   "name": "python",
   "nbconvert_exporter": "python",
   "pygments_lexer": "ipython3",
   "version": "3.7.3"
  }
 },
 "nbformat": 4,
 "nbformat_minor": 2
}
