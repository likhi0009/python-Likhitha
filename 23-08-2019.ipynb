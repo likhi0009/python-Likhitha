{
 "cells": [
  {
   "cell_type": "code",
   "execution_count": 5,
   "metadata": {},
   "outputs": [
    {
     "name": "stdout",
     "output_type": "stream",
     "text": [
      "9\n",
      "2 3 5 7 "
     ]
    }
   ],
   "source": [
    "# prime number range\n",
    "u=int(input()) \n",
    "for a in range(1,u):\n",
    "    count=0\n",
    "    if a>1:\n",
    "        for i in range(2,a+1):\n",
    "            if(a%i)==0:\n",
    "                count=count+1\n",
    "            else:\n",
    "                continue \n",
    "    if count == 1:\n",
    "        print(a,end=' ')\n"
   ]
  },
  {
   "cell_type": "code",
   "execution_count": 10,
   "metadata": {},
   "outputs": [
    {
     "name": "stdout",
     "output_type": "stream",
     "text": [
      "6\n",
      "720\n"
     ]
    }
   ],
   "source": [
    "## factorial\n",
    "a=int(input())\n",
    "n=1\n",
    "for i in range(1,a+1):\n",
    "    n=n*i\n",
    "print(n)"
   ]
  },
  {
   "cell_type": "code",
   "execution_count": 12,
   "metadata": {},
   "outputs": [
    {
     "name": "stdout",
     "output_type": "stream",
     "text": [
      "toogle string\n",
      "TOOGLE STRING\n"
     ]
    }
   ],
   "source": [
    "## toggles string\n",
    "name=input()\n",
    "name1=name.swapcase()\n",
    "print(name1)"
   ]
  },
  {
   "cell_type": "code",
   "execution_count": 2,
   "metadata": {},
   "outputs": [
    {
     "name": "stdout",
     "output_type": "stream",
     "text": [
      "Hello Kirti\n"
     ]
    }
   ],
   "source": [
    "print(\"Hello Kirti\") "
   ]
  },
  {
   "cell_type": "code",
   "execution_count": 8,
   "metadata": {},
   "outputs": [
    {
     "name": "stdout",
     "output_type": "stream",
     "text": [
      "1 10 1\n",
      "10\n"
     ]
    }
   ],
   "source": [
    "## count divisors\n",
    "a=input().split()\n",
    "size=len(a)\n",
    "l=int(a[0])\n",
    "r=int(a[1])\n",
    "k=int(a[2])\n",
    "count=0\n",
    "for i in range(l,r+1):\n",
    "    if i%k==0:\n",
    "        count=count+1\n",
    "print(count)"
   ]
  },
  {
   "cell_type": "code",
   "execution_count": 9,
   "metadata": {},
   "outputs": [
    {
     "name": "stdout",
     "output_type": "stream",
     "text": [
      "enter the string:ADGH\n",
      "NO\n"
     ]
    }
   ],
   "source": [
    "## string palindrome\n",
    "s=input('enter the string:')\n",
    "l=len(s)\n",
    "for i in range(0,l):  \n",
    "    for j in range(0,l):\n",
    "        a=(l-1)-j\n",
    "if s[a]==s[i]:\n",
    "    print(\"YES\") \n",
    "else:\n",
    "    print('NO')"
   ]
  },
  {
   "cell_type": "code",
   "execution_count": 14,
   "metadata": {},
   "outputs": [
    {
     "ename": "IndentationError",
     "evalue": "unexpected indent (<ipython-input-14-aa02641d14f2>, line 7)",
     "output_type": "error",
     "traceback": [
      "\u001b[1;36m  File \u001b[1;32m\"<ipython-input-14-aa02641d14f2>\"\u001b[1;36m, line \u001b[1;32m7\u001b[0m\n\u001b[1;33m    if j int [i]0:\u001b[0m\n\u001b[1;37m    ^\u001b[0m\n\u001b[1;31mIndentationError\u001b[0m\u001b[1;31m:\u001b[0m unexpected indent\n"
     ]
    }
   ],
   "source": [
    "# cost of ballons\n",
    "i=\"enter the value\"\n",
    "j=\"enter the value\"\n",
    "count=0\n",
    "for i in range(1,n):\n",
    "    n=(1<=n<=10)\n",
    "     if j int [i]0:\n",
    "    print (i)"
   ]
  },
  {
   "cell_type": "code",
   "execution_count": null,
   "metadata": {},
   "outputs": [],
   "source": []
  }
 ],
 "metadata": {
  "kernelspec": {
   "display_name": "Python 3",
   "language": "python",
   "name": "python3"
  },
  "language_info": {
   "codemirror_mode": {
    "name": "ipython",
    "version": 3
   },
   "file_extension": ".py",
   "mimetype": "text/x-python",
   "name": "python",
   "nbconvert_exporter": "python",
   "pygments_lexer": "ipython3",
   "version": "3.7.3"
  }
 },
 "nbformat": 4,
 "nbformat_minor": 2
}
