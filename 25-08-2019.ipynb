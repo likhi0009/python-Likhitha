{
 "cells": [
  {
   "cell_type": "markdown",
   "metadata": {},
   "source": [
    "### Task based on functions"
   ]
  },
  {
   "cell_type": "code",
   "execution_count": 20,
   "metadata": {},
   "outputs": [
    {
     "name": "stdout",
     "output_type": "stream",
     "text": [
      "Sum of all elements in given list:  78\n"
     ]
    }
   ],
   "source": [
    "# Python function to find sum of all  \n",
    "list1 = [11, 9, 23, 11, 24]\n",
    "total=0\n",
    "def sumOfList(list,size): \n",
    "        if (size == 0):\n",
    "            return 0\n",
    "        else: \n",
    "                return list[size - 1] + sumOfList(list, size - 1) \n",
    "total = sumOfList(list1, len(list1)) \n",
    "                \n",
    "print(\"Sum of all elements in given list: \", total) "
   ]
  },
  {
   "cell_type": "code",
   "execution_count": 5,
   "metadata": {},
   "outputs": [
    {
     "name": "stdout",
     "output_type": "stream",
     "text": [
      "1\n",
      "2\n",
      "3\n",
      "4\n"
     ]
    },
    {
     "data": {
      "text/plain": [
       "24"
      ]
     },
     "execution_count": 5,
     "metadata": {},
     "output_type": "execute_result"
    }
   ],
   "source": [
    "# multiply all numbers in a list\n",
    "list=[]\n",
    "def multiply(a):\n",
    "    result=1\n",
    "    for i in range(0,len(list)):\n",
    "        result=result*list[i]\n",
    "    return result\n",
    "for j in range(1,5):\n",
    "    n=int(input())\n",
    "    list.append(n)\n",
    "multiply(list)"
   ]
  },
  {
   "cell_type": "code",
   "execution_count": 12,
   "metadata": {},
   "outputs": [
    {
     "name": "stdout",
     "output_type": "stream",
     "text": [
      "2009\n",
      "Not an leap year\n"
     ]
    }
   ],
   "source": [
    "#  leap year\n",
    "n=int(input())\n",
    "def leapyear(n):\n",
    "    if (n%4==0 and n%100!=0 or n%100==0 and n%400==0):\n",
    "        print(\"It is an leap year\")\n",
    "    else:\n",
    "        print(\"Not an leap year\")  \n",
    "leapyear(n)"
   ]
  },
  {
   "cell_type": "code",
   "execution_count": 13,
   "metadata": {},
   "outputs": [
    {
     "name": "stdout",
     "output_type": "stream",
     "text": [
      "enter namecaptain america\n",
      "acirema niatpac\n"
     ]
    }
   ],
   "source": [
    "# Reverse a string\n",
    "a=input(\"enter name\")\n",
    "i=a[::-1]\n",
    "print(i)"
   ]
  },
  {
   "cell_type": "code",
   "execution_count": 21,
   "metadata": {},
   "outputs": [
    {
     "name": "stdout",
     "output_type": "stream",
     "text": [
      "u1\n",
      "l 2\n",
      "3\n",
      "NO\n"
     ]
    }
   ],
   "source": [
    "# check whether a number is in given range\n",
    "def num(a,b,c):\n",
    "    if b in range(a,b,c):\n",
    "        print(\"YES\")\n",
    "    else:\n",
    "        print(\"NO\")\n",
    "u=int(input(\"u\"))\n",
    "l=int(input(\"l \"))\n",
    "n=int(input()) \n",
    "num(u,l,n)"
   ]
  },
  {
   "cell_type": "code",
   "execution_count": 22,
   "metadata": {},
   "outputs": [
    {
     "name": "stdout",
     "output_type": "stream",
     "text": [
      "5\n",
      "1\n",
      "2\n",
      "3\n",
      "4\n",
      "5\n",
      "6\n",
      "7\n",
      "8\n",
      "9\n",
      "10\n",
      "11\n",
      "12\n",
      "13\n",
      "14\n",
      "15\n"
     ]
    }
   ],
   "source": [
    "# count no of digits in given two\n",
    "def count(a):\n",
    "    count=0\n",
    "    for i in range(0,len(a)):\n",
    "        count=count+1\n",
    "        print(count)\n",
    "b=int(input())\n",
    "count(a)"
   ]
  },
  {
   "cell_type": "code",
   "execution_count": null,
   "metadata": {},
   "outputs": [],
   "source": [
    "# "
   ]
  }
 ],
 "metadata": {
  "kernelspec": {
   "display_name": "Python 3",
   "language": "python",
   "name": "python3"
  },
  "language_info": {
   "codemirror_mode": {
    "name": "ipython",
    "version": 3
   },
   "file_extension": ".py",
   "mimetype": "text/x-python",
   "name": "python",
   "nbconvert_exporter": "python",
   "pygments_lexer": "ipython3",
   "version": "3.7.3"
  }
 },
 "nbformat": 4,
 "nbformat_minor": 2
}
