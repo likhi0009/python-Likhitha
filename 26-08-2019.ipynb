{
 "cells": [
  {
   "cell_type": "code",
   "execution_count": 2,
   "metadata": {},
   "outputs": [
    {
     "name": "stdout",
     "output_type": "stream",
     "text": [
      "5\n",
      "1 2 3 4 5\n",
      "120\n"
     ]
    }
   ],
   "source": [
    "N=int(input())\n",
    "A=input().split()\n",
    "l=len(A)\n",
    "answer=1\n",
    "for i in range(1,l):\n",
    "    answer=(answer*int(A[i]))%(10**9+7)\n",
    "print(answer)"
   ]
  },
  {
   "cell_type": "code",
   "execution_count": null,
   "metadata": {},
   "outputs": [],
   "source": [
    "## two strings\n",
    "T=input().split()\n",
    "s1=T[0]\n",
    "s2=T[1]\n",
    "if sorted(s1)==sorted(s2):\n",
    "    print(\"YES\")\n",
    "else:\n",
    "    print(\"NO\")"
   ]
  },
  {
   "cell_type": "code",
   "execution_count": null,
   "metadata": {},
   "outputs": [
    {
     "name": "stdout",
     "output_type": "stream",
     "text": [
      "2\n",
      "abc\n",
      "abc\n",
      "yes\n"
     ]
    }
   ],
   "source": [
    "# anagrams\n",
    "     "
   ]
  },
  {
   "cell_type": "code",
   "execution_count": null,
   "metadata": {},
   "outputs": [],
   "source": [
    "#\n",
    "n=int(input())\n",
    "for i in range\n",
    "\n",
    "\n",
    "eh=int(d[2])\n",
    "em=int(d[3])\n",
    "if sh<=60>sm\n",
    "sh=sh+1\n",
    "  \n",
    "                                                                                                                                                                                                                                                                                                                                                                                                                  m"
   ]
  },
  {
   "cell_type": "code",
   "execution_count": 1,
   "metadata": {},
   "outputs": [
    {
     "name": "stdout",
     "output_type": "stream",
     "text": [
      "0\n",
      "7\n",
      "14\n",
      "21\n",
      "28\n",
      "35\n",
      "42\n",
      "49\n",
      "56\n",
      "63\n",
      "70\n",
      "77\n",
      "84\n",
      "91\n",
      "98\n"
     ]
    }
   ],
   "source": [
    "for i in range(100):\n",
    "    if i%7==0:\n",
    "        print(i)\n",
    "        "
   ]
  },
  {
   "cell_type": "code",
   "execution_count": 5,
   "metadata": {},
   "outputs": [
    {
     "name": "stdout",
     "output_type": "stream",
     "text": [
      "1\n",
      "5\n"
     ]
    }
   ],
   "source": [
    "for i in range(1,25):\n",
    "    if 25%i == 0:\n",
    "        print(i)"
   ]
  },
  {
   "cell_type": "code",
   "execution_count": 7,
   "metadata": {},
   "outputs": [
    {
     "name": "stdout",
     "output_type": "stream",
     "text": [
      "1\n",
      "1 44 2 14\n",
      "0 30\n"
     ]
    }
   ],
   "source": [
    "N=int(input())\n",
    "for i in range(N):\n",
    "    t=input().split()\n",
    "    SH=int(t[0])\n",
    "    SM=int(t[1])\n",
    "    EH=int(t[2])\n",
    "    EM=int(t[3])\n",
    "    if SM<60:\n",
    "        SM=60-SM\n",
    "        #print(SM)\n",
    "        SH=SH+1\n",
    "        #print(SH)\n",
    "    TH=EH-SH\n",
    "    TM=SM+EM\n",
    "    if TM>=60:\n",
    "        TH=TH+1\n",
    "        TM=TM-60\n",
    "print(TH,end= \" \")\n",
    "print(TM)"
   ]
  },
  {
   "cell_type": "code",
   "execution_count": null,
   "metadata": {},
   "outputs": [],
   "source": []
  }
 ],
 "metadata": {
  "kernelspec": {
   "display_name": "Python 3",
   "language": "python",
   "name": "python3"
  },
  "language_info": {
   "codemirror_mode": {
    "name": "ipython",
    "version": 3
   },
   "file_extension": ".py",
   "mimetype": "text/x-python",
   "name": "python",
   "nbconvert_exporter": "python",
   "pygments_lexer": "ipython3",
   "version": "3.7.3"
  }
 },
 "nbformat": 4,
 "nbformat_minor": 2
}
