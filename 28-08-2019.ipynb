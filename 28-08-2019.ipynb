{
 "cells": [
  {
   "cell_type": "code",
   "execution_count": null,
   "metadata": {},
   "outputs": [],
   "source": [
    "#### mobile number\n",
    "N=int(input())\n",
    "for i in range(N):\n",
    "    n=input()\n",
    "    print(\"+91-(\"+ n[-10:-7] +\")-\"+n[-7:-4]+\"-\"+n[-4: : ])"
   ]
  },
  {
   "cell_type": "code",
   "execution_count": null,
   "metadata": {},
   "outputs": [
    {
     "name": "stdout",
     "output_type": "stream",
     "text": [
      "4\n"
     ]
    }
   ],
   "source": [
    "# concatination character\n",
    "n=int(input())\n",
    "s=input().split()\n",
    "s2=\"\"\n",
    "for i in s:\n",
    "    s2=s2+i\n",
    "    print(s2)"
   ]
  },
  {
   "cell_type": "code",
   "execution_count": null,
   "metadata": {},
   "outputs": [],
   "source": [
    "# likes and dislikes\n",
    "a=input()\n",
    "p=input()\n",
    "l=len(a)\n",
    "c=0\n",
    "for i in  range(1):\n",
    "    if "
   ]
  }
 ],
 "metadata": {
  "kernelspec": {
   "display_name": "Python 3",
   "language": "python",
   "name": "python3"
  },
  "language_info": {
   "codemirror_mode": {
    "name": "ipython",
    "version": 3
   },
   "file_extension": ".py",
   "mimetype": "text/x-python",
   "name": "python",
   "nbconvert_exporter": "python",
   "pygments_lexer": "ipython3",
   "version": "3.7.3"
  }
 },
 "nbformat": 4,
 "nbformat_minor": 2
}
